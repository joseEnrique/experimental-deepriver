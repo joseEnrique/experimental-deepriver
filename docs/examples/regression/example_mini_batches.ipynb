{
 "cells": [
  {
   "cell_type": "code",
   "metadata": {
    "execution": {
     "iopub.execute_input": "2025-03-29T09:42:14.018673Z",
     "iopub.status.busy": "2025-03-29T09:42:14.018318Z",
     "iopub.status.idle": "2025-03-29T09:42:17.443698Z",
     "shell.execute_reply": "2025-03-29T09:42:17.443060Z"
    },
    "ExecuteTime": {
     "end_time": "2025-04-08T08:11:45.426710Z",
     "start_time": "2025-04-08T08:11:43.334123Z"
    }
   },
   "source": [
    "import pandas as pd\n",
    "from river import datasets\n",
    "from deep_river import regression\n",
    "from torch import nn\n",
    "from river import compose\n",
    "from river import preprocessing\n",
    "from itertools import islice\n",
    "from pprint import pprint\n",
    "from sklearn import metrics"
   ],
   "outputs": [],
   "execution_count": 1
  },
  {
   "cell_type": "code",
   "metadata": {
    "execution": {
     "iopub.execute_input": "2025-03-29T09:42:17.446442Z",
     "iopub.status.busy": "2025-03-29T09:42:17.446119Z",
     "iopub.status.idle": "2025-03-29T09:42:17.451369Z",
     "shell.execute_reply": "2025-03-29T09:42:17.450766Z"
    },
    "ExecuteTime": {
     "end_time": "2025-04-08T08:11:45.435603Z",
     "start_time": "2025-04-08T08:11:45.430513Z"
    }
   },
   "source": [
    "class MyModule(nn.Module):\n",
    "    def __init__(self, n_features):\n",
    "        super(MyModule, self).__init__()\n",
    "        self.dense0 = nn.Linear(n_features, 5)\n",
    "        self.nonlin = nn.ReLU()\n",
    "        self.dense1 = nn.Linear(5, 1)\n",
    "        self.softmax = nn.Softmax(dim=-1)\n",
    "\n",
    "    def forward(self, X, **kwargs):\n",
    "        X = self.nonlin(self.dense0(X))\n",
    "        X = self.nonlin(self.dense1(X))\n",
    "        X = self.softmax(X)\n",
    "        return X\n",
    "\n",
    "\n",
    "def batcher(iterable, batch_size):\n",
    "    iterator = iter(iterable)\n",
    "    while batch := list(islice(iterator, batch_size)):\n",
    "        yield batch"
   ],
   "outputs": [],
   "execution_count": 2
  },
  {
   "cell_type": "code",
   "metadata": {
    "execution": {
     "iopub.execute_input": "2025-03-29T09:42:17.453778Z",
     "iopub.status.busy": "2025-03-29T09:42:17.453549Z",
     "iopub.status.idle": "2025-03-29T09:42:17.458616Z",
     "shell.execute_reply": "2025-03-29T09:42:17.458015Z"
    },
    "ExecuteTime": {
     "end_time": "2025-04-08T08:11:46.001925Z",
     "start_time": "2025-04-08T08:11:45.988254Z"
    }
   },
   "source": [
    "dataset = datasets.Bikes()\n",
    "\n",
    "for x, y in dataset:\n",
    "    pprint(x)\n",
    "    print(f\"Number of available bikes: {y}\")\n",
    "    break"
   ],
   "outputs": [
    {
     "name": "stdout",
     "output_type": "stream",
     "text": [
      "{'clouds': 75,\n",
      " 'description': 'light rain',\n",
      " 'humidity': 81,\n",
      " 'moment': datetime.datetime(2016, 4, 1, 0, 0, 7),\n",
      " 'pressure': 1017.0,\n",
      " 'station': 'metro-canal-du-midi',\n",
      " 'temperature': 6.54,\n",
      " 'wind': 9.3}\n",
      "Number of available bikes: 1\n"
     ]
    }
   ],
   "execution_count": 3
  },
  {
   "cell_type": "code",
   "metadata": {
    "execution": {
     "iopub.execute_input": "2025-03-29T09:42:17.461425Z",
     "iopub.status.busy": "2025-03-29T09:42:17.461194Z",
     "iopub.status.idle": "2025-03-29T09:42:18.389296Z",
     "shell.execute_reply": "2025-03-29T09:42:18.388701Z"
    },
    "ExecuteTime": {
     "end_time": "2025-04-08T08:12:04.722295Z",
     "start_time": "2025-04-08T08:12:04.576992Z"
    }
   },
   "source": [
    "dataset = datasets.Bikes()\n",
    "\n",
    "model_pipeline = compose.Select(\n",
    "    \"clouds\", \"humidity\", \"pressure\", \"temperature\", \"wind\"\n",
    ")\n",
    "model_pipeline |= regression.RegressorInitialized(\n",
    "    module=MyModule(5), loss_fn=\"mse\", optimizer_fn=\"sgd\", device=\"cuda:0\"\n",
    ")\n",
    "model_pipeline"
   ],
   "outputs": [
    {
     "data": {
      "text/plain": [
       "Pipeline (\n",
       "  Select (\n",
       "    clouds\n",
       "    humidity\n",
       "    pressure\n",
       "    temperature\n",
       "    wind\n",
       "  ),\n",
       "  RegressorInitialized (\n",
       "    module=MyModule(\n",
       "    (dense0): Linear(in_features=5, out_features=5, bias=True)\n",
       "    (nonlin): ReLU()\n",
       "    (dense1): Linear(in_features=5, out_features=1, bias=True)\n",
       "    (softmax): Softmax(dim=-1)\n",
       "  )\n",
       "    loss_fn=\"mse\"\n",
       "    optimizer_fn=\"sgd\"\n",
       "    lr=0.001\n",
       "    output_is_logit=True\n",
       "    is_feature_incremental=False\n",
       "    device=\"cuda:0\"\n",
       "    seed=42\n",
       "  )\n",
       ")"
      ],
      "text/html": [
       "<div><div class=\"river-component river-pipeline\"><details class=\"river-component river-estimator\"><summary class=\"river-summary\"><pre class=\"river-estimator-name\">['clouds', [...]</pre></summary><code class=\"river-estimator-params\">Select (\n",
       "  clouds\n",
       "  humidity\n",
       "  pressure\n",
       "  temperature\n",
       "  wind\n",
       ")\n",
       "</code></details><details class=\"river-component river-estimator\"><summary class=\"river-summary\"><pre class=\"river-estimator-name\">RegressorInitialized</pre></summary><code class=\"river-estimator-params\">RegressorInitialized (\n",
       "  module=MyModule(\n",
       "  (dense0): Linear(in_features=5, out_features=5, bias=True)\n",
       "  (nonlin): ReLU()\n",
       "  (dense1): Linear(in_features=5, out_features=1, bias=True)\n",
       "  (softmax): Softmax(dim=-1)\n",
       ")\n",
       "  loss_fn=\"mse\"\n",
       "  optimizer_fn=\"sgd\"\n",
       "  lr=0.001\n",
       "  output_is_logit=True\n",
       "  is_feature_incremental=False\n",
       "  device=\"cuda:0\"\n",
       "  seed=42\n",
       ")\n",
       "</code></details></div><style scoped>\n",
       ".river-estimator {\n",
       "    padding: 1em;\n",
       "    border-style: solid;\n",
       "    background: white;\n",
       "    max-width: max-content;\n",
       "}\n",
       "\n",
       ".river-pipeline {\n",
       "    display: flex;\n",
       "    flex-direction: column;\n",
       "    align-items: center;\n",
       "    background: linear-gradient(#000, #000) no-repeat center / 1.5px 100%;\n",
       "}\n",
       "\n",
       ".river-union {\n",
       "    display: flex;\n",
       "    flex-direction: row;\n",
       "    align-items: center;\n",
       "    justify-content: center;\n",
       "    padding: 1em;\n",
       "    border-style: solid;\n",
       "    background: white;\n",
       "}\n",
       "\n",
       ".river-wrapper {\n",
       "    display: flex;\n",
       "    flex-direction: column;\n",
       "    align-items: center;\n",
       "    justify-content: center;\n",
       "    padding: 1em;\n",
       "    border-style: solid;\n",
       "    background: white;\n",
       "}\n",
       "\n",
       ".river-wrapper > .river-estimator {\n",
       "    margin-top: 1em;\n",
       "}\n",
       "\n",
       "/* Vertical spacing between steps */\n",
       "\n",
       ".river-component + .river-component {\n",
       "    margin-top: 2em;\n",
       "}\n",
       "\n",
       ".river-union > .river-estimator {\n",
       "    margin-top: 0;\n",
       "}\n",
       "\n",
       ".river-union > .river-component {\n",
       "    margin-top: 0;\n",
       "}\n",
       "\n",
       ".river-union > .pipeline {\n",
       "    margin-top: 0;\n",
       "}\n",
       "\n",
       "/* Spacing within a union of estimators */\n",
       "\n",
       ".river-union > .river-component + .river-component {\n",
       "    margin-left: 1em;\n",
       "}\n",
       "\n",
       "/* Typography */\n",
       "\n",
       ".river-estimator-params {\n",
       "    display: block;\n",
       "    white-space: pre-wrap;\n",
       "    font-size: 110%;\n",
       "    margin-top: 1em;\n",
       "}\n",
       "\n",
       ".river-estimator > .river-estimator-params,\n",
       ".river-wrapper > .river-details > river-estimator-params {\n",
       "    background-color: white !important;\n",
       "}\n",
       "\n",
       ".river-wrapper > .river-details {\n",
       "    margin-bottom: 1em;\n",
       "}\n",
       "\n",
       ".river-estimator-name {\n",
       "    display: inline;\n",
       "    margin: 0;\n",
       "    font-size: 110%;\n",
       "}\n",
       "\n",
       "/* Toggle */\n",
       "\n",
       ".river-summary {\n",
       "    display: flex;\n",
       "    align-items:center;\n",
       "    cursor: pointer;\n",
       "}\n",
       "\n",
       ".river-summary > div {\n",
       "    width: 100%;\n",
       "}\n",
       "</style></div>"
      ]
     },
     "execution_count": 6,
     "metadata": {},
     "output_type": "execute_result"
    }
   ],
   "execution_count": 6
  },
  {
   "cell_type": "code",
   "metadata": {
    "execution": {
     "iopub.execute_input": "2025-03-29T09:42:18.392462Z",
     "iopub.status.busy": "2025-03-29T09:42:18.392162Z",
     "iopub.status.idle": "2025-03-29T09:42:21.231107Z",
     "shell.execute_reply": "2025-03-29T09:42:21.230532Z"
    },
    "ExecuteTime": {
     "end_time": "2025-04-08T08:12:07.186767Z",
     "start_time": "2025-04-08T08:12:06.588121Z"
    }
   },
   "source": [
    "y_trues = []\n",
    "y_preds = []\n",
    "for batch in batcher(dataset.take(5000), 5):\n",
    "    x, y = zip(*batch)\n",
    "    x = pd.DataFrame(x)\n",
    "    y_trues.extend(y)\n",
    "    print(y)\n",
    "    y_preds.extend(model_pipeline.predict_many(X=x).values)\n",
    "    model_pipeline.learn_many(X=x, y=pd.Series(y))"
   ],
   "outputs": [
    {
     "name": "stdout",
     "output_type": "stream",
     "text": [
      "(1, 3, 3, 2, 2)\n",
      "entra\n"
     ]
    },
    {
     "ename": "TypeError",
     "evalue": "can't convert cuda:0 device type tensor to numpy. Use Tensor.cpu() to copy the tensor to host memory first.",
     "output_type": "error",
     "traceback": [
      "\u001B[31m---------------------------------------------------------------------------\u001B[39m",
      "\u001B[31mTypeError\u001B[39m                                 Traceback (most recent call last)",
      "\u001B[36mCell\u001B[39m\u001B[36m \u001B[39m\u001B[32mIn[7]\u001B[39m\u001B[32m, line 8\u001B[39m\n\u001B[32m      6\u001B[39m y_trues.extend(y)\n\u001B[32m      7\u001B[39m \u001B[38;5;28mprint\u001B[39m(y)\n\u001B[32m----> \u001B[39m\u001B[32m8\u001B[39m y_preds.extend(\u001B[43mmodel_pipeline\u001B[49m\u001B[43m.\u001B[49m\u001B[43mpredict_many\u001B[49m\u001B[43m(\u001B[49m\u001B[43mX\u001B[49m\u001B[43m=\u001B[49m\u001B[43mx\u001B[49m\u001B[43m)\u001B[49m.values)\n\u001B[32m      9\u001B[39m model_pipeline.learn_many(X=x, y=pd.Series(y))\n",
      "\u001B[36mFile \u001B[39m\u001B[32m~/tesis/deep-river/.venv/lib/python3.12/site-packages/river/compose/pipeline.py:748\u001B[39m, in \u001B[36mPipeline.predict_many\u001B[39m\u001B[34m(self, X)\u001B[39m\n\u001B[32m    746\u001B[39m \u001B[38;5;250m\u001B[39m\u001B[33;03m\"\"\"Call transform_many, and then predict_many on the final step.\"\"\"\u001B[39;00m\n\u001B[32m    747\u001B[39m X, last_step = \u001B[38;5;28mself\u001B[39m._transform_many(X=X)\n\u001B[32m--> \u001B[39m\u001B[32m748\u001B[39m \u001B[38;5;28;01mreturn\u001B[39;00m \u001B[43mlast_step\u001B[49m\u001B[43m.\u001B[49m\u001B[43mpredict_many\u001B[49m\u001B[43m(\u001B[49m\u001B[43mX\u001B[49m\u001B[43m=\u001B[49m\u001B[43mX\u001B[49m\u001B[43m)\u001B[49m\n",
      "\u001B[36mFile \u001B[39m\u001B[32m~/tesis/deep-river/deep_river/regression/regressor.py:331\u001B[39m, in \u001B[36mRegressorInitialized.predict_many\u001B[39m\u001B[34m(self, X)\u001B[39m\n\u001B[32m    329\u001B[39m \u001B[38;5;28;01mwith\u001B[39;00m torch.inference_mode():\n\u001B[32m    330\u001B[39m     y_preds = \u001B[38;5;28mself\u001B[39m.module(x_t)\n\u001B[32m--> \u001B[39m\u001B[32m331\u001B[39m \u001B[38;5;28;01mreturn\u001B[39;00m \u001B[43mpd\u001B[49m\u001B[43m.\u001B[49m\u001B[43mDataFrame\u001B[49m\u001B[43m(\u001B[49m\u001B[43my_preds\u001B[49m\u001B[43m)\u001B[49m\n",
      "\u001B[36mFile \u001B[39m\u001B[32m~/tesis/deep-river/.venv/lib/python3.12/site-packages/pandas/core/frame.py:841\u001B[39m, in \u001B[36mDataFrame.__init__\u001B[39m\u001B[34m(self, data, index, columns, dtype, copy)\u001B[39m\n\u001B[32m    838\u001B[39m \u001B[38;5;28;01mif\u001B[39;00m \u001B[38;5;129;01mnot\u001B[39;00m \u001B[38;5;28misinstance\u001B[39m(data, abc.Sequence):\n\u001B[32m    839\u001B[39m     \u001B[38;5;28;01mif\u001B[39;00m \u001B[38;5;28mhasattr\u001B[39m(data, \u001B[33m\"\u001B[39m\u001B[33m__array__\u001B[39m\u001B[33m\"\u001B[39m):\n\u001B[32m    840\u001B[39m         \u001B[38;5;66;03m# GH#44616 big perf improvement for e.g. pytorch tensor\u001B[39;00m\n\u001B[32m--> \u001B[39m\u001B[32m841\u001B[39m         data = \u001B[43mnp\u001B[49m\u001B[43m.\u001B[49m\u001B[43masarray\u001B[49m\u001B[43m(\u001B[49m\u001B[43mdata\u001B[49m\u001B[43m)\u001B[49m\n\u001B[32m    842\u001B[39m     \u001B[38;5;28;01melse\u001B[39;00m:\n\u001B[32m    843\u001B[39m         data = \u001B[38;5;28mlist\u001B[39m(data)\n",
      "\u001B[36mFile \u001B[39m\u001B[32m~/tesis/deep-river/.venv/lib/python3.12/site-packages/torch/_tensor.py:1194\u001B[39m, in \u001B[36mTensor.__array__\u001B[39m\u001B[34m(self, dtype)\u001B[39m\n\u001B[32m   1192\u001B[39m     \u001B[38;5;28;01mreturn\u001B[39;00m handle_torch_function(Tensor.__array__, (\u001B[38;5;28mself\u001B[39m,), \u001B[38;5;28mself\u001B[39m, dtype=dtype)\n\u001B[32m   1193\u001B[39m \u001B[38;5;28;01mif\u001B[39;00m dtype \u001B[38;5;129;01mis\u001B[39;00m \u001B[38;5;28;01mNone\u001B[39;00m:\n\u001B[32m-> \u001B[39m\u001B[32m1194\u001B[39m     \u001B[38;5;28;01mreturn\u001B[39;00m \u001B[38;5;28;43mself\u001B[39;49m\u001B[43m.\u001B[49m\u001B[43mnumpy\u001B[49m\u001B[43m(\u001B[49m\u001B[43m)\u001B[49m\n\u001B[32m   1195\u001B[39m \u001B[38;5;28;01melse\u001B[39;00m:\n\u001B[32m   1196\u001B[39m     \u001B[38;5;28;01mreturn\u001B[39;00m \u001B[38;5;28mself\u001B[39m.numpy().astype(dtype, copy=\u001B[38;5;28;01mFalse\u001B[39;00m)\n",
      "\u001B[31mTypeError\u001B[39m: can't convert cuda:0 device type tensor to numpy. Use Tensor.cpu() to copy the tensor to host memory first."
     ]
    }
   ],
   "execution_count": 7
  },
  {
   "cell_type": "code",
   "metadata": {
    "collapsed": false,
    "execution": {
     "iopub.execute_input": "2025-03-29T09:42:21.234795Z",
     "iopub.status.busy": "2025-03-29T09:42:21.234465Z",
     "iopub.status.idle": "2025-03-29T09:42:21.242358Z",
     "shell.execute_reply": "2025-03-29T09:42:21.241852Z"
    },
    "jupyter": {
     "outputs_hidden": false
    },
    "ExecuteTime": {
     "end_time": "2025-04-04T20:36:37.799616Z",
     "start_time": "2025-04-04T20:36:37.785772Z"
    }
   },
   "source": [
    "metrics.mean_squared_error(y_true=y_trues, y_pred=y_preds)"
   ],
   "outputs": [
    {
     "data": {
      "text/plain": [
       "102.4412"
      ]
     },
     "execution_count": 11,
     "metadata": {},
     "output_type": "execute_result"
    }
   ],
   "execution_count": 11
  }
 ],
 "metadata": {
  "kernelspec": {
   "display_name": "deep-river",
   "language": "python",
   "name": "python3"
  },
  "language_info": {
   "codemirror_mode": {
    "name": "ipython",
    "version": 3
   },
   "file_extension": ".py",
   "mimetype": "text/x-python",
   "name": "python",
   "nbconvert_exporter": "python",
   "pygments_lexer": "ipython3",
   "version": "3.10.11"
  }
 },
 "nbformat": 4,
 "nbformat_minor": 4
}
